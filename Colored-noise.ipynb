{
 "cells": [
  {
   "cell_type": "code",
   "execution_count": 1,
   "metadata": {
    "collapsed": true
   },
   "outputs": [],
   "source": [
    "import numpy as np\n",
    "from matplotlib import * \n",
    "from math import sqrt"
   ]
  },
  {
   "cell_type": "code",
   "execution_count": null,
   "metadata": {
    "collapsed": true
   },
   "outputs": [],
   "source": [
    "t= np.linspace(0,6,100)\n",
    "D=1\n",
    "lamda=1\n"
   ]
  },
  {
   "cell_type": "code",
   "execution_count": 3,
   "metadata": {},
   "outputs": [
    {
     "data": {
      "text/plain": [
       "array([  0.00000000e+00,   3.00150075e-03,   6.00300150e-03, ...,\n",
       "         5.99399700e+00,   5.99699850e+00,   6.00000000e+00])"
      ]
     },
     "execution_count": 3,
     "metadata": {},
     "output_type": "execute_result"
    }
   ],
   "source": [
    "def colored_noise_euler_integration(x_0, lamda, D, n, dt=0.001, t_stop=6):\n",
    "    \"\"\"\n",
    "    Use Euler integration to solve ODEs\n",
    "    \"\"\"    \n",
    "    E=np.exp(-lamda * dt)\n",
    "    \n",
    "    # Time points\n",
    "    t = np.linspace(0, t_stop, int(t_stop/dt))\n",
    "    \n",
    "    # Initialize output array\n",
    "    x = x_0 * np.ones_like(t)\n",
    "    \n",
    "    # Do Euler stepping\n",
    "    for i in range(i_time, len(t) - 1):\n",
    "        h= sqrt( D * lamda * (1-E**2) ) * np.random.normal()\n",
    "        x[i+1] = x[i] + dt * dx_dt(x[i - i_time], x[i], beta, tau, n)\n",
    "        \n",
    "    return t, x"
   ]
  },
  {
   "cell_type": "code",
   "execution_count": null,
   "metadata": {
    "collapsed": true
   },
   "outputs": [],
   "source": [
    "def de_dt (e0,t, lamda,D):\n",
    "    "
   ]
  },
  {
   "cell_type": "code",
   "execution_count": 4,
   "metadata": {},
   "outputs": [
    {
     "data": {
      "text/plain": [
       "0.46997742789760877"
      ]
     },
     "execution_count": 4,
     "metadata": {},
     "output_type": "execute_result"
    }
   ],
   "source": [
    "np.random.normal()"
   ]
  },
  {
   "cell_type": "code",
   "execution_count": 5,
   "metadata": {},
   "outputs": [
    {
     "data": {
      "text/plain": [
       "1.0010005001667084"
      ]
     },
     "execution_count": 5,
     "metadata": {},
     "output_type": "execute_result"
    }
   ],
   "source": [
    "np.exp(1*0.001)"
   ]
  },
  {
   "cell_type": "code",
   "execution_count": null,
   "metadata": {
    "collapsed": true
   },
   "outputs": [],
   "source": []
  }
 ],
 "metadata": {
  "kernelspec": {
   "display_name": "Python 3",
   "language": "python",
   "name": "python3"
  },
  "language_info": {
   "codemirror_mode": {
    "name": "ipython",
    "version": 3
   },
   "file_extension": ".py",
   "mimetype": "text/x-python",
   "name": "python",
   "nbconvert_exporter": "python",
   "pygments_lexer": "ipython3",
   "version": "3.6.3"
  }
 },
 "nbformat": 4,
 "nbformat_minor": 2
}
